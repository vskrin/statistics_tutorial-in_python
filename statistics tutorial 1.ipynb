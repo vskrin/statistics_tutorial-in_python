{
 "cells": [
  {
   "cell_type": "markdown",
   "metadata": {},
   "source": [
    "# Statistics tutorial 1\n",
    "## Covering resampling, AB testing and p-values"
   ]
  },
  {
   "cell_type": "code",
   "execution_count": 50,
   "metadata": {
    "collapsed": true
   },
   "outputs": [],
   "source": [
    "import numpy as np\n",
    "import matplotlib.pyplot as plt\n",
    "import scipy.stats as stats"
   ]
  },
  {
   "cell_type": "markdown",
   "metadata": {},
   "source": [
    "suppose we have data as follows:\n",
    "\n",
    "|clicks|headline A | headline B|total|\n",
    "|:------|:------:|:-----:|:--------:|\n",
    "| yes  |  31  |  21  | 52    |\n",
    "| no   | 169  | 179 | 348    |\n",
    "|total | 200  | 200 |  400   |\n",
    "\n",
    "\n",
    "we want to figure out whether headline A is better than headline B by a statisticall significant margin.\n",
    "the way we can do that is by doing a simple **A/B test**.\n",
    "\n",
    "the test will be done in the following steps:\n",
    "* **resampling**\n",
    "* drawing a histogram and the observation for visual comparison\n",
    "* computation of the **p-value**\n",
    "\n",
    "steps will be explained as we progress"
   ]
  },
  {
   "cell_type": "code",
   "execution_count": 4,
   "metadata": {},
   "outputs": [
    {
     "data": {
      "text/plain": [
       "(400,)"
      ]
     },
     "execution_count": 4,
     "metadata": {},
     "output_type": "execute_result"
    }
   ],
   "source": [
    "totno=np.zeros(348)   #generate 348 0's equaling total number of no's \n",
    "totyes=np.ones(52)    #generate 52 1's equaling total number of yes's\n",
    "tot=np.append(totyes,totno)      #put them all in the same array\n",
    "tot.shape                        #print length of the array (=400 = total number of measurements)"
   ]
  },
  {
   "cell_type": "code",
   "execution_count": 6,
   "metadata": {
    "collapsed": true
   },
   "outputs": [],
   "source": [
    "expy=52/400   #expected number of yes's in the total population\n",
    "expn=348/400  #expected number of no's in the total population"
   ]
  },
  {
   "cell_type": "code",
   "execution_count": 7,
   "metadata": {},
   "outputs": [
    {
     "data": {
      "text/plain": [
       "0.13"
      ]
     },
     "execution_count": 7,
     "metadata": {},
     "output_type": "execute_result"
    }
   ],
   "source": [
    "expy"
   ]
  },
  {
   "cell_type": "code",
   "execution_count": 8,
   "metadata": {
    "collapsed": true
   },
   "outputs": [],
   "source": [
    "obsdiff=((31*1+169*0)/200)-(21*1+179*0)/200 #difference of means of headline A and headline B"
   ]
  },
  {
   "cell_type": "markdown",
   "metadata": {},
   "source": [
    "Null hypothesis states that the headlines A and B are equally efficient.\n",
    "To test the hypothesis we create a new population equal to the combined population of observations A and B.\n",
    "This total population has 348 zeros and 5 ones.\n",
    "\n",
    "We now do **resampling** procedure! We reshuffle ones and zeros in tot, and we put first 200 components of tot in \"fake A\" group and last 200 components in \"fake B\" group. We compute the average of each. We take difference of the averages and we save it. This is repeated many times!"
   ]
  },
  {
   "cell_type": "code",
   "execution_count": 13,
   "metadata": {
    "collapsed": true
   },
   "outputs": [],
   "source": [
    "diff=np.array([])  # we save differences of sample means here\n",
    "for i in range(2000):\n",
    "    np.random.shuffle(tot) #this reshuffles components of tot\n",
    "    fakeA=np.sum(tot[:200]==1)/200\n",
    "    fakeB=np.sum(tot[200:]==1)/200\n",
    "    diff=np.append(diff,fakeA-fakeB)"
   ]
  },
  {
   "cell_type": "code",
   "execution_count": 30,
   "metadata": {},
   "outputs": [
    {
     "data": {
      "image/png": "[encoded data removed]",
      "text/plain": [
       "<matplotlib.figure.Figure at 0x7f1144ff6b38>"
      ]
     },
     "metadata": {},
     "output_type": "display_data"
    }
   ],
   "source": [
    "plt.hist(diff,color='b',label='resampling data')\n",
    "plt.vlines(obsdiff,0,700,colors='r',linestyles='dashed',label='observed')\n",
    "plt.legend(loc='upper left')\n",
    "plt.xlabel(\"mean difference\")\n",
    "plt.ylabel(\"number of events\")\n",
    "plt.show()"
   ]
  },
  {
   "cell_type": "markdown",
   "metadata": {
    "collapsed": true
   },
   "source": [
    "it is clear from visual inspection that random resampling often generates mean differences larger than the one observed. let us now get the p-value.\n",
    "\n",
    "we compute p-value as the percentage of events larger than the observed mean difference."
   ]
  },
  {
   "cell_type": "code",
   "execution_count": 35,
   "metadata": {},
   "outputs": [
    {
     "data": {
      "text/plain": [
       "85"
      ]
     },
     "execution_count": 35,
     "metadata": {},
     "output_type": "execute_result"
    }
   ],
   "source": [
    "#number of events larger than the observed event is:\n",
    "np.sum((diff>obsdiff)==1)"
   ]
  },
  {
   "cell_type": "markdown",
   "metadata": {},
   "source": [
    "we can use analogous commands to check that there are 1143 events larger than 0 and 857 event smaller than zero.\n",
    "\n",
    "we know that we've generated 2000 resamplings, so the percantage of them that are larger than the observed difference is:"
   ]
  },
  {
   "cell_type": "code",
   "execution_count": 38,
   "metadata": {},
   "outputs": [
    {
     "data": {
      "text/plain": [
       "0.0425"
      ]
     },
     "execution_count": 38,
     "metadata": {},
     "output_type": "execute_result"
    }
   ],
   "source": [
    "85/2000"
   ]
  },
  {
   "cell_type": "markdown",
   "metadata": {},
   "source": [
    "this is our p-value, it equals 4.25%\n",
    "\n",
    "had we chosen initially that **p-value has to be lower than 5%** if the null hypothesis is to be falsified, we would have to conclude that it is in fact falsified, and thus headline A is (statistically) significantly better than headline B. \n",
    "\n",
    "had we chosen **alpha equal to 1%** instead of 5% (where alpha is a common name for the threshold on p-value) then we would have to conclude that the two headlines are equally good, i.e. there is no statistically significant difference.\n",
    "\n",
    "let us see what happens if we increase the number of resamplings."
   ]
  },
  {
   "cell_type": "code",
   "execution_count": 39,
   "metadata": {
    "collapsed": true
   },
   "outputs": [],
   "source": [
    "diff=np.array([])  # we save differences of sample means here\n",
    "for i in range(10000):\n",
    "    np.random.shuffle(tot) #this reshuffles components of tot\n",
    "    fakeA=np.sum(tot[:200]==1)/200\n",
    "    fakeB=np.sum(tot[200:]==1)/200\n",
    "    diff=np.append(diff,fakeA-fakeB)"
   ]
  },
  {
   "cell_type": "code",
   "execution_count": 41,
   "metadata": {},
   "outputs": [
    {
     "data": {
      "image/png": "[encoded data removed]",
      "text/plain": [
       "<matplotlib.figure.Figure at 0x7f1144ea4da0>"
      ]
     },
     "metadata": {},
     "output_type": "display_data"
    }
   ],
   "source": [
    "plt.hist(diff,color='b',label='resampling data')\n",
    "plt.vlines(obsdiff,0,3000,colors='r',linestyles='dashed',label='observed')\n",
    "plt.legend(loc='upper left')\n",
    "plt.xlabel(\"mean difference\")\n",
    "plt.ylabel(\"number of events\")\n",
    "plt.show()"
   ]
  },
  {
   "cell_type": "code",
   "execution_count": 42,
   "metadata": {},
   "outputs": [
    {
     "data": {
      "text/plain": [
       "541"
      ]
     },
     "execution_count": 42,
     "metadata": {},
     "output_type": "execute_result"
    }
   ],
   "source": [
    "#number of events larger than the observed event is:\n",
    "np.sum((diff>obsdiff)==1)"
   ]
  },
  {
   "cell_type": "code",
   "execution_count": 43,
   "metadata": {},
   "outputs": [
    {
     "data": {
      "text/plain": [
       "0.0514"
      ]
     },
     "execution_count": 43,
     "metadata": {},
     "output_type": "execute_result"
    }
   ],
   "source": [
    "514/10000"
   ]
  },
  {
   "cell_type": "markdown",
   "metadata": {},
   "source": [
    "this time we got p-value of 5.14%\n",
    "this is more trustworthy than the original analysis because number of resamplings is greater.\n",
    "in addition, this result shows that we were running high risk of commiting **type-I error**, namely concluding the existence of a statistically significant effect when there is none (**false positive**)\n",
    "\n",
    "let us repeat resampling one more time to confirm convergence towards the \"correct result\":"
   ]
  },
  {
   "cell_type": "code",
   "execution_count": 49,
   "metadata": {},
   "outputs": [
    {
     "name": "stdout",
     "output_type": "stream",
     "text": [
      "p-value is: 5.18%\n"
     ]
    }
   ],
   "source": [
    "diff=np.array([])  # we save differences of sample means here\n",
    "for i in range(20000):\n",
    "    np.random.shuffle(tot) #this reshuffles components of tot\n",
    "    fakeA=np.sum(tot[:200]==1)/200\n",
    "    fakeB=np.sum(tot[200:]==1)/200\n",
    "    diff=np.append(diff,fakeA-fakeB)\n",
    "print(\"p-value is: \"+str(np.sum((diff>obsdiff)==1)/20000*100)+\"%\")"
   ]
  },
  {
   "cell_type": "markdown",
   "metadata": {},
   "source": [
    "PS. note that the p-value still varies a lot based on the random reshuffling. e.g. running the above line multiple time I got p-values anywhere between 4.7% and 5.2%"
   ]
  },
  {
   "cell_type": "markdown",
   "metadata": {},
   "source": [
    "now we can try to do the standard t-test contained in scipy.stats as ttest_ind\n",
    "\n",
    "the [documentation](https://docs.scipy.org/doc/scipy/reference/generated/scipy.stats.ttest_ind.html) says:\n",
    "\n",
    "*Calculate the T-test for the means of two independent samples of scores.*\n",
    "\n",
    "*This is a two-sided test for the null hypothesis that 2 independent samples have identical average (expected) values. This test assumes that the populations have identical variances by default.*"
   ]
  },
  {
   "cell_type": "code",
   "execution_count": 54,
   "metadata": {},
   "outputs": [
    {
     "data": {
      "text/plain": [
       "Ttest_indResult(statistic=1.4871457824809056, pvalue=0.13776809124736633)"
      ]
     },
     "execution_count": 54,
     "metadata": {},
     "output_type": "execute_result"
    }
   ],
   "source": [
    "#we need to have data in array form\n",
    "arrayA=np.zeros([200])\n",
    "arrayA[:31]=1\n",
    "arrayB=np.zeros([200])\n",
    "arrayB[:21]=1\n",
    "#insert data in the t-test\n",
    "stats.ttest_ind(arrayA,arrayB)"
   ]
  },
  {
   "cell_type": "markdown",
   "metadata": {},
   "source": [
    "Here *statistic* stands for the calculated t-statistic and *pvalue* stands for the **two-tailed** p-value.\n",
    "Note that we've computed **one-tailed** p-value above. The difference is whether you're interested in the probability of obtaining mean difference as extreme as yours only on one side or on both sides of the histograms that we plotted above. We only cared about the right hand side, so we should perform a one-sided t-test.\n",
    "\n",
    "scipy doesn't support this but for a symmetric distribution there is a relation between the two p-values: one-sided is 1/2 of the two-sided. one should be careful while doing this as the p-values should be considered in combination with the sign of the t-statistic, see [this](https://stats.idre.ucla.edu/other/mult-pkg/faq/general/faq-what-are-the-differences-between-one-tailed-and-two-tailed-tests/) for clarification.\n",
    "\n",
    "in our case t-statistic is positive and we're asking the probability of having a value larger than that. what we computed is prob(>statistic)+prob(<(-statistic)), and since t-distribution is symmetric this is simply 2xprob(>statistic), so one-sided p-value is simply one half of the reported value, which is:"
   ]
  },
  {
   "cell_type": "code",
   "execution_count": 55,
   "metadata": {},
   "outputs": [
    {
     "data": {
      "text/plain": [
       "0.068885"
      ]
     },
     "execution_count": 55,
     "metadata": {},
     "output_type": "execute_result"
    }
   ],
   "source": [
    ".13777/2"
   ]
  },
  {
   "cell_type": "markdown",
   "metadata": {},
   "source": [
    "which corresponds to p-value of: 6.89%\n",
    "and thus the null hypothesis should be kept (i.e. it cannot be rejected)."
   ]
  }
 ],
 "metadata": {
  "kernelspec": {
   "display_name": "Python 3",
   "language": "python",
   "name": "python3"
  },
  "language_info": {
   "codemirror_mode": {
    "name": "ipython",
    "version": 3
   },
   "file_extension": ".py",
   "mimetype": "text/x-python",
   "name": "python",
   "nbconvert_exporter": "python",
   "pygments_lexer": "ipython3",
   "version": "3.6.2"
  }
 },
 "nbformat": 4,
 "nbformat_minor": 2
}
